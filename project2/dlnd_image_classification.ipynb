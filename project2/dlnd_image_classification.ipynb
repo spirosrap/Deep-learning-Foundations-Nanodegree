{
 "cells": [
  {
   "cell_type": "markdown",
   "metadata": {
    "collapsed": true,
    "deletable": true,
    "editable": true
   },
   "source": [
    "# Image Classification\n",
    "In this project, you'll classify images from the [CIFAR-10 dataset](https://www.cs.toronto.edu/~kriz/cifar.html).  The dataset consists of airplanes, dogs, cats, and other objects. You'll preprocess the images, then train a convolutional neural network on all the samples. The images need to be normalized and the labels need to be one-hot encoded.  You'll get to apply what you learned and build a convolutional, max pooling, dropout, and fully connected layers.  At the end, you'll get to see your neural network's predictions on the sample images.\n",
    "## Get the Data\n",
    "Run the following cell to download the [CIFAR-10 dataset for python](https://www.cs.toronto.edu/~kriz/cifar-10-python.tar.gz)."
   ]
  },
  {
   "cell_type": "code",
   "execution_count": 175,
   "metadata": {
    "collapsed": false,
    "deletable": true,
    "editable": true
   },
   "outputs": [
    {
     "name": "stdout",
     "output_type": "stream",
     "text": [
      "All files found!\n"
     ]
    }
   ],
   "source": [
    "\"\"\"\n",
    "DON'T MODIFY ANYTHING IN THIS CELL THAT IS BELOW THIS LINE\n",
    "\"\"\"\n",
    "from urllib.request import urlretrieve\n",
    "from os.path import isfile, isdir\n",
    "from tqdm import tqdm\n",
    "import problem_unittests as tests\n",
    "import tarfile\n",
    "\n",
    "cifar10_dataset_folder_path = 'cifar-10-batches-py'\n",
    "\n",
    "class DLProgress(tqdm):\n",
    "    last_block = 0\n",
    "\n",
    "    def hook(self, block_num=1, block_size=1, total_size=None):\n",
    "        self.total = total_size\n",
    "        self.update((block_num - self.last_block) * block_size)\n",
    "        self.last_block = block_num\n",
    "\n",
    "if not isfile('cifar-10-python.tar.gz'):\n",
    "    with DLProgress(unit='B', unit_scale=True, miniters=1, desc='CIFAR-10 Dataset') as pbar:\n",
    "        urlretrieve(\n",
    "            'https://www.cs.toronto.edu/~kriz/cifar-10-python.tar.gz',\n",
    "            'cifar-10-python.tar.gz',\n",
    "            pbar.hook)\n",
    "\n",
    "if not isdir(cifar10_dataset_folder_path):\n",
    "    with tarfile.open('cifar-10-python.tar.gz') as tar:\n",
    "        tar.extractall()\n",
    "        tar.close()\n",
    "\n",
    "\n",
    "tests.test_folder_path(cifar10_dataset_folder_path)"
   ]
  },
  {
   "cell_type": "markdown",
   "metadata": {
    "deletable": true,
    "editable": true
   },
   "source": [
    "## Explore the Data\n",
    "The dataset is broken into batches to prevent your machine from running out of memory.  The CIFAR-10 dataset consists of 5 batches, named `data_batch_1`, `data_batch_2`, etc.. Each batch contains the labels and images that are one of the following:\n",
    "* airplane\n",
    "* automobile\n",
    "* bird\n",
    "* cat\n",
    "* deer\n",
    "* dog\n",
    "* frog\n",
    "* horse\n",
    "* ship\n",
    "* truck\n",
    "\n",
    "Understanding a dataset is part of making predictions on the data.  Play around with the code cell below by changing the `batch_id` and `sample_id`. The `batch_id` is the id for a batch (1-5). The `sample_id` is the id for a image and label pair in the batch.\n",
    "\n",
    "Ask yourself \"What are all possible labels?\", \"What is the range of values for the image data?\", \"Are the labels in order or random?\".  Answers to questions like these will help you preprocess the data and end up with better predictions."
   ]
  },
  {
   "cell_type": "code",
   "execution_count": 176,
   "metadata": {
    "collapsed": false,
    "deletable": true,
    "editable": true
   },
   "outputs": [
    {
     "name": "stdout",
     "output_type": "stream",
     "text": [
      "\n",
      "Stats of batch 1:\n",
      "Samples: 10000\n",
      "Label Counts: {0: 1005, 1: 974, 2: 1032, 3: 1016, 4: 999, 5: 937, 6: 1030, 7: 1001, 8: 1025, 9: 981}\n",
      "First 20 Labels: [6, 9, 9, 4, 1, 1, 2, 7, 8, 3, 4, 7, 7, 2, 9, 9, 9, 3, 2, 6]\n",
      "\n",
      "Example of Image 50:\n",
      "Image - Min Value: 8 Max Value: 243\n",
      "Image - Shape: (32, 32, 3)\n",
      "Label - Label Id: 9 Name: truck\n"
     ]
    },
    {
     "data": {
      "image/png": "[encoded data removed]",
      "text/plain": [
       "<matplotlib.figure.Figure at 0x7f1a56739438>"
      ]
     },
     "metadata": {
      "image/png": {
       "height": 250,
       "width": 253
      }
     },
     "output_type": "display_data"
    }
   ],
   "source": [
    "%matplotlib inline\n",
    "%config InlineBackend.figure_format = 'retina'\n",
    "\n",
    "import helper\n",
    "import numpy as np\n",
    "\n",
    "# Explore the dataset\n",
    "batch_id = 1\n",
    "sample_id = 50\n",
    "helper.display_stats(cifar10_dataset_folder_path, batch_id, sample_id)"
   ]
  },
  {
   "cell_type": "markdown",
   "metadata": {
    "deletable": true,
    "editable": true
   },
   "source": [
    "## Implement Preprocess Functions\n",
    "### Normalize\n",
    "In the cell below, implement the `normalize` function to take in image data, `x`, and return it as a normalized Numpy array. The values should be in the range of 0 to 1, inclusive.  The return object should be the same shape as `x`."
   ]
  },
  {
   "cell_type": "code",
   "execution_count": 117,
   "metadata": {
    "collapsed": false,
    "deletable": true,
    "editable": true
   },
   "outputs": [
    {
     "name": "stdout",
     "output_type": "stream",
     "text": [
      "Tests Passed\n"
     ]
    }
   ],
   "source": [
    "def normalize(x):\n",
    "    \"\"\"\n",
    "    Normalize a list of sample image data in the range of 0 to 1\n",
    "    : x: List of image data.  The image shape is (32, 32, 3)\n",
    "    : return: Numpy array of normalize data\n",
    "    \"\"\"\n",
    "    # TODO: Implement Function\n",
    "    return np.dot(x,1/255)\n",
    "\n",
    "\n",
    "\"\"\"\n",
    "DON'T MODIFY ANYTHING IN THIS CELL THAT IS BELOW THIS LINE\n",
    "\"\"\"\n",
    "tests.test_normalize(normalize)"
   ]
  },
  {
   "cell_type": "markdown",
   "metadata": {
    "deletable": true,
    "editable": true
   },
   "source": [
    "### One-hot encode\n",
    "Just like the previous code cell, you'll be implementing a function for preprocessing.  This time, you'll implement the `one_hot_encode` function. The input, `x`, are a list of labels.  Implement the function to return the list of labels as One-Hot encoded Numpy array.  The possible values for labels are 0 to 9. The one-hot encoding function should return the same encoding for each value between each call to `one_hot_encode`.  Make sure to save the map of encodings outside the function.\n",
    "\n",
    "Hint: Don't reinvent the wheel."
   ]
  },
  {
   "cell_type": "code",
   "execution_count": 4,
   "metadata": {
    "collapsed": false,
    "deletable": true,
    "editable": true
   },
   "outputs": [
    {
     "name": "stdout",
     "output_type": "stream",
     "text": [
      "Tests Passed\n"
     ]
    }
   ],
   "source": [
    "def one_hot_encode(x):\n",
    "    \"\"\"\n",
    "    One hot encode a list of sample labels. Return a one-hot encoded vector for each label.\n",
    "    : x: List of sample Labels\n",
    "    : return: Numpy array of one-hot encoded labels\n",
    "    \"\"\"\n",
    "    # TODO: Implement Function\n",
    "    one_hot = np.zeros((len(x),10))\n",
    "    for i in range(len(x)):\n",
    "        one_hot[i][x[i]] = 1\n",
    "    return  one_hot\n",
    "\n",
    "\n",
    "\"\"\"\n",
    "DON'T MODIFY ANYTHING IN THIS CELL THAT IS BELOW THIS LINE\n",
    "\"\"\"\n",
    "tests.test_one_hot_encode(one_hot_encode)"
   ]
  },
  {
   "cell_type": "markdown",
   "metadata": {
    "deletable": true,
    "editable": true
   },
   "source": [
    "### Randomize Data\n",
    "As you saw from exploring the data above, the order of the samples are randomized.  It doesn't hurt to randomize it again, but you don't need to for this dataset."
   ]
  },
  {
   "cell_type": "markdown",
   "metadata": {
    "deletable": true,
    "editable": true
   },
   "source": [
    "## Preprocess all the data and save it\n",
    "Running the code cell below will preprocess all the CIFAR-10 data and save it to file. The code below also uses 10% of the training data for validation."
   ]
  },
  {
   "cell_type": "code",
   "execution_count": 5,
   "metadata": {
    "collapsed": false,
    "deletable": true,
    "editable": true
   },
   "outputs": [],
   "source": [
    "\"\"\"\n",
    "DON'T MODIFY ANYTHING IN THIS CELL\n",
    "\"\"\"\n",
    "# Preprocess Training, Validation, and Testing Data\n",
    "helper.preprocess_and_save_data(cifar10_dataset_folder_path, normalize, one_hot_encode)"
   ]
  },
  {
   "cell_type": "markdown",
   "metadata": {
    "deletable": true,
    "editable": true
   },
   "source": [
    "# Check Point\n",
    "This is your first checkpoint.  If you ever decide to come back to this notebook or have to restart the notebook, you can start from here.  The preprocessed data has been saved to disk."
   ]
  },
  {
   "cell_type": "code",
   "execution_count": 1,
   "metadata": {
    "collapsed": false,
    "deletable": true,
    "editable": true
   },
   "outputs": [],
   "source": [
    "\"\"\"\n",
    "DON'T MODIFY ANYTHING IN THIS CELL\n",
    "\"\"\"\n",
    "import pickle\n",
    "import problem_unittests as tests\n",
    "import helper\n",
    "\n",
    "# Load the Preprocessed Validation data\n",
    "valid_features, valid_labels = pickle.load(open('preprocess_validation.p', mode='rb'))"
   ]
  },
  {
   "cell_type": "markdown",
   "metadata": {
    "deletable": true,
    "editable": true
   },
   "source": [
    "## Build the network\n",
    "For the neural network, you'll build each layer into a function.  Most of the code you've seen has been outside of functions. To test your code more thoroughly, we require that you put each layer in a function.  This allows us to give you better feedback and test for simple mistakes using our unittests before you submit your project.\n",
    "\n",
    "If you're finding it hard to dedicate enough time for this course a week, we've provided a small shortcut to this part of the project. In the next couple of problems, you'll have the option to use [TensorFlow Layers](https://www.tensorflow.org/api_docs/python/tf/layers) or [TensorFlow Layers (contrib)](https://www.tensorflow.org/api_guides/python/contrib.layers) to build each layer, except \"Convolutional & Max Pooling\" layer.  TF Layers is similar to Keras's and TFLearn's abstraction to layers, so it's easy to pickup.\n",
    "\n",
    "If you would like to get the most of this course, try to solve all the problems without TF Layers.  Let's begin!\n",
    "### Input\n",
    "The neural network needs to read the image data, one-hot encoded labels, and dropout keep probability. Implement the following functions\n",
    "* Implement `neural_net_image_input`\n",
    " * Return a [TF Placeholder](https://www.tensorflow.org/api_docs/python/tf/placeholder)\n",
    " * Set the shape using `image_shape` with batch size set to `None`.\n",
    " * Name the TensorFlow placeholder \"x\" using the TensorFlow `name` parameter in the [TF Placeholder](https://www.tensorflow.org/api_docs/python/tf/placeholder).\n",
    "* Implement `neural_net_label_input`\n",
    " * Return a [TF Placeholder](https://www.tensorflow.org/api_docs/python/tf/placeholder)\n",
    " * Set the shape using `n_classes` with batch size set to `None`.\n",
    " * Name the TensorFlow placeholder \"y\" using the TensorFlow `name` parameter in the [TF Placeholder](https://www.tensorflow.org/api_docs/python/tf/placeholder).\n",
    "* Implement `neural_net_keep_prob_input`\n",
    " * Return a [TF Placeholder](https://www.tensorflow.org/api_docs/python/tf/placeholder) for dropout keep probability.\n",
    " * Name the TensorFlow placeholder \"keep_prob\" using the TensorFlow `name` parameter in the [TF Placeholder](https://www.tensorflow.org/api_docs/python/tf/placeholder).\n",
    "\n",
    "These names will be used at the end of the project to load your saved model.\n",
    "\n",
    "Note: `None` for shapes in TensorFlow allow for a dynamic size."
   ]
  },
  {
   "cell_type": "code",
   "execution_count": 2,
   "metadata": {
    "collapsed": false,
    "deletable": true,
    "editable": true
   },
   "outputs": [
    {
     "name": "stdout",
     "output_type": "stream",
     "text": [
      "Image Input Tests Passed.\n",
      "Label Input Tests Passed.\n",
      "Keep Prob Tests Passed.\n"
     ]
    }
   ],
   "source": [
    "import tensorflow as tf\n",
    "\n",
    "def neural_net_image_input(image_shape):\n",
    "    \"\"\"\n",
    "    Return a Tensor for a bach of image input\n",
    "    : image_shape: Shape of the images\n",
    "    : return: Tensor for image input.\n",
    "    \"\"\"\n",
    "    # TODO: Implement Function\n",
    "    return tf.placeholder(tf.float32,shape=[None,image_shape[0],image_shape[1],image_shape[2]],name=\"x\")\n",
    "\n",
    "\n",
    "def neural_net_label_input(n_classes):\n",
    "    \"\"\"\n",
    "    Return a Tensor for a batch of label input\n",
    "    : n_classes: Number of classes\n",
    "    : return: Tensor for label input.\n",
    "    \"\"\"\n",
    "    # TODO: Implement Function\n",
    "\n",
    "    return tf.placeholder(tf.float32,shape=[None,n_classes],name=\"y\")\n",
    "\n",
    "\n",
    "def neural_net_keep_prob_input():\n",
    "    \"\"\"\n",
    "    Return a Tensor for keep probability\n",
    "    : return: Tensor for keep probability.\n",
    "    \"\"\"\n",
    "    # TODO: Implement Function\n",
    "\n",
    "\n",
    "    return tf.placeholder(tf.float32,name=\"keep_prob\") # probability to keep units\n",
    "\n",
    "\n",
    "\"\"\"\n",
    "DON'T MODIFY ANYTHING IN THIS CELL THAT IS BELOW THIS LINE\n",
    "\"\"\"\n",
    "tf.reset_default_graph()\n",
    "tests.test_nn_image_inputs(neural_net_image_input)\n",
    "tests.test_nn_label_inputs(neural_net_label_input)\n",
    "tests.test_nn_keep_prob_inputs(neural_net_keep_prob_input)"
   ]
  },
  {
   "cell_type": "markdown",
   "metadata": {
    "deletable": true,
    "editable": true
   },
   "source": [
    "### Convolution and Max Pooling Layer\n",
    "Convolution layers have a lot of success with images. For this code cell, you should implement the function `conv2d_maxpool` to apply convolution then max pooling:\n",
    "* Create the weight and bias using `conv_ksize`, `conv_num_outputs` and the shape of `x_tensor`.\n",
    "* Apply a convolution to `x_tensor` using weight and `conv_strides`.\n",
    " * We recommend you use same padding, but you're welcome to use any padding.\n",
    "* Add bias\n",
    "* Add a nonlinear activation to the convolution.\n",
    "* Apply Max Pooling using `pool_ksize` and `pool_strides`.\n",
    " * We recommend you use same padding, but you're welcome to use any padding.\n",
    "\n",
    "Note: You **can't** use [TensorFlow Layers](https://www.tensorflow.org/api_docs/python/tf/layers) or [TensorFlow Layers (contrib)](https://www.tensorflow.org/api_guides/python/contrib.layers) for this layer.  You're free to use any TensorFlow package for all the other layers."
   ]
  },
  {
   "cell_type": "code",
   "execution_count": 114,
   "metadata": {
    "collapsed": false,
    "deletable": true,
    "editable": true
   },
   "outputs": [
    {
     "name": "stdout",
     "output_type": "stream",
     "text": [
      "Tests Passed\n"
     ]
    }
   ],
   "source": [
    "def conv2d_maxpool(x_tensor, conv_num_outputs, conv_ksize, conv_strides, pool_ksize, pool_strides):\n",
    "    \"\"\"\n",
    "    Apply convolution then max pooling to x_tensor\n",
    "    :param x_tensor: TensorFlow Tensor\n",
    "    :param conv_num_outputs: Number of outputs for the convolutional layer\n",
    "    :param conv_strides: Stride 2-D Tuple for convolution\n",
    "    :param pool_ksize: kernal size 2-D Tuple for pool\n",
    "    :param pool_strides: Stride 2-D Tuple for pool\n",
    "    : return: A tensor that represents convolution and max pooling of x_tensor\n",
    "    \"\"\"\n",
    "\n",
    "    # TODO: Implement Function\n",
    "    weights = tf.Variable(tf.truncated_normal((conv_ksize[0],conv_ksize[1],int(x_tensor.get_shape()[3]),conv_num_outputs),mean = 0, stddev = 0.1))\n",
    "    bias = tf.Variable(tf.zeros(conv_num_outputs))\n",
    "    x = tf.nn.conv2d(x_tensor,weights,[1,conv_strides[0],conv_strides[1],1],\"SAME\")\n",
    "    x = x + bias\n",
    "    rel = tf.nn.relu(x)\n",
    "    y = tf.nn.max_pool(rel,[1,pool_ksize[0],pool_ksize[1],1],[1,pool_strides[0],pool_strides[1],1],\"SAME\")\n",
    "    return y \n",
    "\n",
    "\n",
    "\"\"\"\n",
    "DON'T MODIFY ANYTHING IN THIS CELL THAT IS BELOW THIS LINE\n",
    "\"\"\"\n",
    "tests.test_con_pool(conv2d_maxpool)"
   ]
  },
  {
   "cell_type": "markdown",
   "metadata": {
    "deletable": true,
    "editable": true
   },
   "source": [
    "### Flatten Layer\n",
    "Implement the `flatten` function to change the dimension of `x_tensor` from a 4-D tensor to a 2-D tensor.  The output should be the shape (*Batch Size*, *Flattened Image Size*). You can use [TensorFlow Layers](https://www.tensorflow.org/api_docs/python/tf/layers) or [TensorFlow Layers (contrib)](https://www.tensorflow.org/api_guides/python/contrib.layers) for this layer."
   ]
  },
  {
   "cell_type": "code",
   "execution_count": 4,
   "metadata": {
    "collapsed": false,
    "deletable": true,
    "editable": true
   },
   "outputs": [
    {
     "name": "stdout",
     "output_type": "stream",
     "text": [
      "Tests Passed\n"
     ]
    }
   ],
   "source": [
    "def flatten(x_tensor):\n",
    "    \"\"\"\n",
    "    Flatten x_tensor to (Batch Size, Flattened Image Size)\n",
    "    : x_tensor: A tensor of size (Batch Size, ...), where ... are the image dimensions.\n",
    "    : return: A tensor of size (Batch Size, Flattened Image Size).\n",
    "    \"\"\"\n",
    "    # TODO: Implement Function\n",
    "\n",
    "    size = x_tensor.get_shape().as_list()[1] * x_tensor.get_shape().as_list()[2] * x_tensor.get_shape().as_list()[3]\n",
    "    \n",
    "    return tf.reshape(x_tensor, [-1,size])\n",
    "\n",
    "\n",
    "\n",
    "\"\"\"\n",
    "DON'T MODIFY ANYTHING IN THIS CELL THAT IS BELOW THIS LINE\n",
    "\"\"\"\n",
    "tests.test_flatten(flatten)"
   ]
  },
  {
   "cell_type": "markdown",
   "metadata": {
    "deletable": true,
    "editable": true
   },
   "source": [
    "### Fully-Connected Layer\n",
    "Implement the `fully_conn` function to apply a fully connected layer to `x_tensor` with the shape (*Batch Size*, *num_outputs*). You can use [TensorFlow Layers](https://www.tensorflow.org/api_docs/python/tf/layers) or [TensorFlow Layers (contrib)](https://www.tensorflow.org/api_guides/python/contrib.layers) for this layer."
   ]
  },
  {
   "cell_type": "code",
   "execution_count": 5,
   "metadata": {
    "collapsed": false,
    "deletable": true,
    "editable": true
   },
   "outputs": [
    {
     "name": "stdout",
     "output_type": "stream",
     "text": [
      "Tests Passed\n"
     ]
    }
   ],
   "source": [
    "from tensorflow.contrib import learn\n",
    "from tensorflow.contrib.learn.python.learn.estimators import model_fn as model_fn_lib\n",
    "\n",
    "def fully_conn(x_tensor, num_outputs):\n",
    "    \"\"\"\n",
    "    Apply a fully connected layer to x_tensor using weight and bias\n",
    "    : x_tensor: A 2-D tensor where the first dimension is batch size.\n",
    "    : num_outputs: The number of output that the new tensor should be.\n",
    "    : return: A 2-D tensor where the second dimension is num_outputs.\n",
    "    \"\"\"\n",
    "    # TODO: Implement Function\n",
    "    return tf.layers.dense(inputs=x_tensor, units=num_outputs, activation=tf.nn.relu)\n",
    "\n",
    "\n",
    "\"\"\"\n",
    "DON'T MODIFY ANYTHING IN THIS CELL THAT IS BELOW THIS LINE\n",
    "\"\"\"\n",
    "tests.test_fully_conn(fully_conn)"
   ]
  },
  {
   "cell_type": "markdown",
   "metadata": {
    "deletable": true,
    "editable": true
   },
   "source": [
    "### Output Layer\n",
    "Implement the `output` function to apply a fully connected layer to `x_tensor` with the shape (*Batch Size*, *num_outputs*). You can use [TensorFlow Layers](https://www.tensorflow.org/api_docs/python/tf/layers) or [TensorFlow Layers (contrib)](https://www.tensorflow.org/api_guides/python/contrib.layers) for this layer.\n",
    "\n",
    "Note: Activation, softmax, or cross entropy shouldn't be applied to this."
   ]
  },
  {
   "cell_type": "code",
   "execution_count": 6,
   "metadata": {
    "collapsed": false,
    "deletable": true,
    "editable": true
   },
   "outputs": [
    {
     "name": "stdout",
     "output_type": "stream",
     "text": [
      "Tests Passed\n"
     ]
    }
   ],
   "source": [
    "def output(x_tensor, num_outputs):\n",
    "    \"\"\"\n",
    "    Apply a output layer to x_tensor using weight and bias\n",
    "    : x_tensor: A 2-D tensor where the first dimension is batch size.\n",
    "    : num_outputs: The number of output that the new tensor should be.\n",
    "    : return: A 2-D tensor where the second dimension is num_outputs.\n",
    "    \"\"\"\n",
    "    # TODO: Implement Function\n",
    "    return tf.layers.dense(inputs=x_tensor, units=num_outputs)\n",
    "\n",
    "\n",
    "\"\"\"\n",
    "DON'T MODIFY ANYTHING IN THIS CELL THAT IS BELOW THIS LINE\n",
    "\"\"\"\n",
    "tests.test_output(output)"
   ]
  },
  {
   "cell_type": "markdown",
   "metadata": {
    "deletable": true,
    "editable": true
   },
   "source": [
    "### Create Convolutional Model\n",
    "Implement the function `conv_net` to create a convolutional neural network model. The function takes in a batch of images, `x`, and outputs logits.  Use the layers you created above to create this model:\n",
    "\n",
    "* Apply 1, 2, or 3 Convolution and Max Pool layers\n",
    "* Apply a Flatten Layer\n",
    "* Apply 1, 2, or 3 Fully Connected Layers\n",
    "* Apply an Output Layer\n",
    "* Return the output\n",
    "* Apply [TensorFlow's Dropout](https://www.tensorflow.org/api_docs/python/tf/nn/dropout) to one or more layers in the model using `keep_prob`. "
   ]
  },
  {
   "cell_type": "code",
   "execution_count": 169,
   "metadata": {
    "collapsed": false,
    "deletable": true,
    "editable": true
   },
   "outputs": [
    {
     "name": "stdout",
     "output_type": "stream",
     "text": [
      "Neural Network Built!\n"
     ]
    }
   ],
   "source": [
    "def conv_net(x, keep_prob):\n",
    "    \"\"\"\n",
    "    Create a convolutional neural network model\n",
    "    : x: Placeholder tensor that holds image data.\n",
    "    : keep_prob: Placeholder tensor that hold dropout keep probability.\n",
    "    : return: Tensor that represents logits\n",
    "    \"\"\"\n",
    "    # TODO: Apply 1, 2, or 3 Convolution and Max Pool layers\n",
    "    #    Play around with different number of outputs, kernel size and stride\n",
    "    # Function Definition from Above:\n",
    "    #    conv2d_maxpool(x_tensor, conv_num_outputs, conv_ksize, conv_strides, pool_ksize, pool_strides)\n",
    "    conv2 = conv2d_maxpool(x, 128, [8,8], [4,4], [4,4], [2,2])\n",
    "    \n",
    "#     conv2 = conv2d_maxpool(conv2, 80, [2,2], [4,4], [2,2], [2,2])\n",
    "#     conv2 = conv2d_maxpool(conv2, 20, [2,2], [4,4], [2,2], [2,2])\n",
    "    \n",
    "    fc1 = tf.nn.dropout(conv2, keep_prob)\n",
    "\n",
    "    # TODO: Apply a Flatten Layer\n",
    "    # Function Definition from Above:\n",
    "    flat = flatten(fc1)\n",
    "\n",
    "    # TODO: Apply 1, 2, or 3 Fully Connected Layers\n",
    "    #    Play around with different number of outputs\n",
    "    # Function Definition from Above:\n",
    "    #   fully_conn(x_tensor, num_outputs)\n",
    "    full = fully_conn(flat, 64)\n",
    "    full = fully_conn(full, 32)\n",
    "    full = fully_conn(full, 16)\n",
    "    \n",
    "#     full = tf.nn.dropout(full, keep_prob)\n",
    "\n",
    "    # TODO: Apply an Output Layer\n",
    "    #    Set this to the number of classes\n",
    "    # Function Definition from Above:\n",
    "    #   output(x_tensor, num_outputs)\n",
    "    out = output(full,10)\n",
    "\n",
    "    # TODO: return output\n",
    "    return out\n",
    "\n",
    "\n",
    "\"\"\"\n",
    "DON'T MODIFY ANYTHING IN THIS CELL THAT IS BELOW THIS LINE\n",
    "\"\"\"\n",
    "\n",
    "##############################\n",
    "## Build the Neural Network ##\n",
    "##############################\n",
    "\n",
    "# Remove previous weights, bias, inputs, etc..\n",
    "tf.reset_default_graph()\n",
    "\n",
    "# Inputs\n",
    "x = neural_net_image_input((32, 32, 3))\n",
    "y = neural_net_label_input(10)\n",
    "keep_prob = neural_net_keep_prob_input()\n",
    "\n",
    "# Model\n",
    "logits = conv_net(x, keep_prob)\n",
    "\n",
    "# Name logits Tensor, so that is can be loaded from disk after training\n",
    "logits = tf.identity(logits, name='logits')\n",
    "\n",
    "# Loss and Optimizer\n",
    "cost = tf.reduce_mean(tf.nn.softmax_cross_entropy_with_logits(logits=logits, labels=y))\n",
    "optimizer = tf.train.AdamOptimizer().minimize(cost)\n",
    "\n",
    "# Accuracy\n",
    "correct_pred = tf.equal(tf.argmax(logits, 1), tf.argmax(y, 1))\n",
    "accuracy = tf.reduce_mean(tf.cast(correct_pred, tf.float32), name='accuracy')\n",
    "\n",
    "tests.test_conv_net(conv_net)"
   ]
  },
  {
   "cell_type": "markdown",
   "metadata": {
    "deletable": true,
    "editable": true
   },
   "source": [
    "## Train the Neural Network\n",
    "### Single Optimization\n",
    "Implement the function `train_neural_network` to do a single optimization.  The optimization should use `optimizer` to optimize in `session` with a `feed_dict` of the following:\n",
    "* `x` for image input\n",
    "* `y` for labels\n",
    "* `keep_prob` for keep probability for dropout\n",
    "\n",
    "This function will be called for each batch, so `tf.global_variables_initializer()` has already been called.\n",
    "\n",
    "Note: Nothing needs to be returned. This function is only optimizing the neural network."
   ]
  },
  {
   "cell_type": "code",
   "execution_count": 122,
   "metadata": {
    "collapsed": false,
    "deletable": true,
    "editable": true
   },
   "outputs": [
    {
     "name": "stdout",
     "output_type": "stream",
     "text": [
      "Tests Passed\n"
     ]
    }
   ],
   "source": [
    "def train_neural_network(session, optimizer, keep_probability, feature_batch, label_batch):\n",
    "    \"\"\"\n",
    "    Optimize the session on a batch of images and labels\n",
    "    : session: Current TensorFlow session\n",
    "    : optimizer: TensorFlow optimizer function\n",
    "    : keep_probability: keep probability\n",
    "    : feature_batch: Batch of Numpy image data\n",
    "    : label_batch: Batch of Numpy label data\n",
    "    \"\"\"\n",
    "    # TODO: Implement Function\n",
    "    \n",
    "    session.run(optimizer, feed_dict={\n",
    "    x: feature_batch,\n",
    "    y: label_batch,\n",
    "    keep_prob: keep_probability})\n",
    "    pass\n",
    "\n",
    "\n",
    "\"\"\"\n",
    "DON'T MODIFY ANYTHING IN THIS CELL THAT IS BELOW THIS LINE\n",
    "\"\"\"\n",
    "tests.test_train_nn(train_neural_network)"
   ]
  },
  {
   "cell_type": "markdown",
   "metadata": {
    "deletable": true,
    "editable": true
   },
   "source": [
    "### Show Stats\n",
    "Implement the function `print_stats` to print loss and validation accuracy.  Use the global variables `valid_features` and `valid_labels` to calculate validation accuracy.  Use a keep probability of `1.0` to calculate the loss and validation accuracy."
   ]
  },
  {
   "cell_type": "code",
   "execution_count": 123,
   "metadata": {
    "collapsed": false,
    "deletable": true,
    "editable": true
   },
   "outputs": [],
   "source": [
    "def print_stats(session, feature_batch, label_batch, cost, accuracy):\n",
    "    \"\"\"\n",
    "    Print information about loss and validation accuracy\n",
    "    : session: Current TensorFlow session\n",
    "    : feature_batch: Batch of Numpy image data\n",
    "    : label_batch: Batch of Numpy label data\n",
    "    : cost: TensorFlow cost function\n",
    "    : accuracy: TensorFlow accuracy function\n",
    "    \"\"\"\n",
    "\n",
    "    # Calculate batch loss and accuracy    \n",
    "    loss = sess.run(cost, feed_dict={\n",
    "        x: feature_batch,\n",
    "        y: label_batch,\n",
    "        keep_prob: 1.})\n",
    "    valid_acc = sess.run(accuracy, feed_dict={\n",
    "        x: feature_batch,\n",
    "        y: label_batch,\n",
    "        keep_prob: 1.})\n",
    "    print('Loss: {}'.format(loss))\n",
    "    print('Validation Accuracy: {}'.format(valid_acc))\n",
    "    pass"
   ]
  },
  {
   "cell_type": "markdown",
   "metadata": {
    "deletable": true,
    "editable": true
   },
   "source": [
    "### Hyperparameters\n",
    "Tune the following parameters:\n",
    "* Set `epochs` to the number of iterations until the network stops learning or start overfitting\n",
    "* Set `batch_size` to the highest number that your machine has memory for.  Most people set them to common sizes of memory:\n",
    " * 64\n",
    " * 128\n",
    " * 256\n",
    " * ...\n",
    "* Set `keep_probability` to the probability of keeping a node using dropout"
   ]
  },
  {
   "cell_type": "code",
   "execution_count": 170,
   "metadata": {
    "collapsed": true,
    "deletable": true,
    "editable": true
   },
   "outputs": [],
   "source": [
    "# TODO: Tune Parameters\n",
    "epochs = 30\n",
    "batch_size = 512\n",
    "keep_probability = 0.5"
   ]
  },
  {
   "cell_type": "markdown",
   "metadata": {
    "deletable": true,
    "editable": true
   },
   "source": [
    "### Train on a Single CIFAR-10 Batch\n",
    "Instead of training the neural network on all the CIFAR-10 batches of data, let's use a single batch. This should save time while you iterate on the model to get a better accuracy.  Once the final validation accuracy is 50% or greater, run the model on all the data in the next section."
   ]
  },
  {
   "cell_type": "code",
   "execution_count": 171,
   "metadata": {
    "collapsed": false,
    "deletable": true,
    "editable": true
   },
   "outputs": [
    {
     "name": "stdout",
     "output_type": "stream",
     "text": [
      "Checking the Training on a Single Batch...\n",
      "Epoch  1, CIFAR-10 Batch 1:  Loss: 2.2345800399780273\n",
      "Validation Accuracy: 0.1993243247270584\n",
      "Epoch  2, CIFAR-10 Batch 1:  Loss: 2.1067025661468506\n",
      "Validation Accuracy: 0.21959459781646729\n",
      "Epoch  3, CIFAR-10 Batch 1:  Loss: 2.0018486976623535\n",
      "Validation Accuracy: 0.2668918967247009\n",
      "Epoch  4, CIFAR-10 Batch 1:  Loss: 1.9231852293014526\n",
      "Validation Accuracy: 0.2939189076423645\n",
      "Epoch  5, CIFAR-10 Batch 1:  Loss: 1.8551971912384033\n",
      "Validation Accuracy: 0.29054054617881775\n",
      "Epoch  6, CIFAR-10 Batch 1:  Loss: 1.782213807106018\n",
      "Validation Accuracy: 0.37837839126586914\n",
      "Epoch  7, CIFAR-10 Batch 1:  Loss: 1.7283883094787598\n",
      "Validation Accuracy: 0.4054054021835327\n",
      "Epoch  8, CIFAR-10 Batch 1:  Loss: 1.6709040403366089\n",
      "Validation Accuracy: 0.43581080436706543\n",
      "Epoch  9, CIFAR-10 Batch 1:  Loss: 1.6211551427841187\n",
      "Validation Accuracy: 0.4256756901741028\n",
      "Epoch 10, CIFAR-10 Batch 1:  Loss: 1.5595203638076782\n",
      "Validation Accuracy: 0.4695945978164673\n",
      "Epoch 11, CIFAR-10 Batch 1:  Loss: 1.5154460668563843\n",
      "Validation Accuracy: 0.4763513505458832\n",
      "Epoch 12, CIFAR-10 Batch 1:  Loss: 1.4933303594589233\n",
      "Validation Accuracy: 0.4797297418117523\n",
      "Epoch 13, CIFAR-10 Batch 1:  Loss: 1.4512838125228882\n",
      "Validation Accuracy: 0.4932432472705841\n",
      "Epoch 14, CIFAR-10 Batch 1:  Loss: 1.4375911951065063\n",
      "Validation Accuracy: 0.5270270109176636\n",
      "Epoch 15, CIFAR-10 Batch 1:  Loss: 1.4009753465652466\n",
      "Validation Accuracy: 0.5405405163764954\n",
      "Epoch 16, CIFAR-10 Batch 1:  Loss: 1.3970584869384766\n",
      "Validation Accuracy: 0.5168918967247009\n",
      "Epoch 17, CIFAR-10 Batch 1:  Loss: 1.3663736581802368\n",
      "Validation Accuracy: 0.5270270109176636\n",
      "Epoch 18, CIFAR-10 Batch 1:  Loss: 1.3523269891738892\n",
      "Validation Accuracy: 0.5236486196517944\n",
      "Epoch 19, CIFAR-10 Batch 1:  Loss: 1.3334981203079224\n",
      "Validation Accuracy: 0.5337837934494019\n",
      "Epoch 20, CIFAR-10 Batch 1:  Loss: 1.3124455213546753\n",
      "Validation Accuracy: 0.5540540814399719\n",
      "Epoch 21, CIFAR-10 Batch 1:  Loss: 1.2864872217178345\n",
      "Validation Accuracy: 0.5574324131011963\n",
      "Epoch 22, CIFAR-10 Batch 1:  Loss: 1.2637065649032593\n",
      "Validation Accuracy: 0.5405405163764954\n",
      "Epoch 23, CIFAR-10 Batch 1:  Loss: 1.2708817720413208\n",
      "Validation Accuracy: 0.5540540814399719\n",
      "Epoch 24, CIFAR-10 Batch 1:  Loss: 1.2241650819778442\n",
      "Validation Accuracy: 0.587837815284729\n",
      "Epoch 25, CIFAR-10 Batch 1:  Loss: 1.2164101600646973\n",
      "Validation Accuracy: 0.5979729890823364\n",
      "Epoch 26, CIFAR-10 Batch 1:  Loss: 1.1969252824783325\n",
      "Validation Accuracy: 0.587837815284729\n",
      "Epoch 27, CIFAR-10 Batch 1:  Loss: 1.1810647249221802\n",
      "Validation Accuracy: 0.6013513803482056\n",
      "Epoch 28, CIFAR-10 Batch 1:  Loss: 1.1646016836166382\n",
      "Validation Accuracy: 0.625\n",
      "Epoch 29, CIFAR-10 Batch 1:  Loss: 1.1564891338348389\n",
      "Validation Accuracy: 0.6148648858070374\n",
      "Epoch 30, CIFAR-10 Batch 1:  Loss: 1.1399623155593872\n",
      "Validation Accuracy: 0.6114864945411682\n"
     ]
    }
   ],
   "source": [
    "\"\"\"\n",
    "DON'T MODIFY ANYTHING IN THIS CELL\n",
    "\"\"\"\n",
    "print('Checking the Training on a Single Batch...')\n",
    "with tf.Session() as sess:\n",
    "    # Initializing the variables\n",
    "    sess.run(tf.global_variables_initializer())\n",
    "    \n",
    "    # Training cycle\n",
    "    for epoch in range(epochs):\n",
    "        batch_i = 1\n",
    "        for batch_features, batch_labels in helper.load_preprocess_training_batch(batch_i, batch_size):\n",
    "            train_neural_network(sess, optimizer, keep_probability, batch_features, batch_labels)\n",
    "        print('Epoch {:>2}, CIFAR-10 Batch {}:  '.format(epoch + 1, batch_i), end='')\n",
    "        print_stats(sess, batch_features, batch_labels, cost, accuracy)"
   ]
  },
  {
   "cell_type": "markdown",
   "metadata": {
    "deletable": true,
    "editable": true
   },
   "source": [
    "### Fully Train the Model\n",
    "Now that you got a good accuracy with a single CIFAR-10 batch, try it with all five batches."
   ]
  },
  {
   "cell_type": "code",
   "execution_count": 172,
   "metadata": {
    "collapsed": false,
    "deletable": true,
    "editable": true
   },
   "outputs": [
    {
     "name": "stdout",
     "output_type": "stream",
     "text": [
      "Training...\n",
      "Epoch  1, CIFAR-10 Batch 1:  Loss: 2.2409515380859375\n",
      "Validation Accuracy: 0.1689189225435257\n",
      "Epoch  1, CIFAR-10 Batch 2:  Loss: 2.1576454639434814\n",
      "Validation Accuracy: 0.15202702581882477\n",
      "Epoch  1, CIFAR-10 Batch 3:  Loss: 2.091742753982544\n",
      "Validation Accuracy: 0.23648647964000702\n",
      "Epoch  1, CIFAR-10 Batch 4:  Loss: 1.9352976083755493\n",
      "Validation Accuracy: 0.2567567527294159\n",
      "Epoch  1, CIFAR-10 Batch 5:  Loss: 1.8566555976867676\n",
      "Validation Accuracy: 0.3006756901741028\n",
      "Epoch  2, CIFAR-10 Batch 1:  Loss: 1.8408832550048828\n",
      "Validation Accuracy: 0.3378378450870514\n",
      "Epoch  2, CIFAR-10 Batch 2:  Loss: 1.6959455013275146\n",
      "Validation Accuracy: 0.37837839126586914\n",
      "Epoch  2, CIFAR-10 Batch 3:  Loss: 1.579131007194519\n",
      "Validation Accuracy: 0.4628378450870514\n",
      "Epoch  2, CIFAR-10 Batch 4:  Loss: 1.5723743438720703\n",
      "Validation Accuracy: 0.45945945382118225\n",
      "Epoch  2, CIFAR-10 Batch 5:  Loss: 1.6132858991622925\n",
      "Validation Accuracy: 0.40878379344940186\n",
      "Epoch  3, CIFAR-10 Batch 1:  Loss: 1.6472554206848145\n",
      "Validation Accuracy: 0.45945945382118225\n",
      "Epoch  3, CIFAR-10 Batch 2:  Loss: 1.5186140537261963\n",
      "Validation Accuracy: 0.4628378450870514\n",
      "Epoch  3, CIFAR-10 Batch 3:  Loss: 1.4057177305221558\n",
      "Validation Accuracy: 0.5236486196517944\n",
      "Epoch  3, CIFAR-10 Batch 4:  Loss: 1.4216341972351074\n",
      "Validation Accuracy: 0.45945945382118225\n",
      "Epoch  3, CIFAR-10 Batch 5:  Loss: 1.4750632047653198\n",
      "Validation Accuracy: 0.4864864945411682\n",
      "Epoch  4, CIFAR-10 Batch 1:  Loss: 1.5454596281051636\n",
      "Validation Accuracy: 0.4797297418117523\n",
      "Epoch  4, CIFAR-10 Batch 2:  Loss: 1.4447059631347656\n",
      "Validation Accuracy: 0.5067567825317383\n",
      "Epoch  4, CIFAR-10 Batch 3:  Loss: 1.3187992572784424\n",
      "Validation Accuracy: 0.5270270109176636\n",
      "Epoch  4, CIFAR-10 Batch 4:  Loss: 1.3460931777954102\n",
      "Validation Accuracy: 0.4695945978164673\n",
      "Epoch  4, CIFAR-10 Batch 5:  Loss: 1.3962730169296265\n",
      "Validation Accuracy: 0.5168918967247009\n",
      "Epoch  5, CIFAR-10 Batch 1:  Loss: 1.4533427953720093\n",
      "Validation Accuracy: 0.5168918967247009\n",
      "Epoch  5, CIFAR-10 Batch 2:  Loss: 1.4002153873443604\n",
      "Validation Accuracy: 0.5236486196517944\n",
      "Epoch  5, CIFAR-10 Batch 3:  Loss: 1.2338552474975586\n",
      "Validation Accuracy: 0.5709459185600281\n",
      "Epoch  5, CIFAR-10 Batch 4:  Loss: 1.2821251153945923\n",
      "Validation Accuracy: 0.5\n",
      "Epoch  5, CIFAR-10 Batch 5:  Loss: 1.3226016759872437\n",
      "Validation Accuracy: 0.5236486196517944\n",
      "Epoch  6, CIFAR-10 Batch 1:  Loss: 1.4120362997055054\n",
      "Validation Accuracy: 0.5405405163764954\n",
      "Epoch  6, CIFAR-10 Batch 2:  Loss: 1.3622207641601562\n",
      "Validation Accuracy: 0.537162184715271\n",
      "Epoch  6, CIFAR-10 Batch 3:  Loss: 1.2033590078353882\n",
      "Validation Accuracy: 0.5945945978164673\n",
      "Epoch  6, CIFAR-10 Batch 4:  Loss: 1.2330577373504639\n",
      "Validation Accuracy: 0.5540540814399719\n",
      "Epoch  6, CIFAR-10 Batch 5:  Loss: 1.2663835287094116\n",
      "Validation Accuracy: 0.5337837934494019\n",
      "Epoch  7, CIFAR-10 Batch 1:  Loss: 1.3520140647888184\n",
      "Validation Accuracy: 0.5608108043670654\n",
      "Epoch  7, CIFAR-10 Batch 2:  Loss: 1.3156081438064575\n",
      "Validation Accuracy: 0.5270270109176636\n",
      "Epoch  7, CIFAR-10 Batch 3:  Loss: 1.169077754020691\n",
      "Validation Accuracy: 0.6114864945411682\n",
      "Epoch  7, CIFAR-10 Batch 4:  Loss: 1.2019766569137573\n",
      "Validation Accuracy: 0.5540540814399719\n",
      "Epoch  7, CIFAR-10 Batch 5:  Loss: 1.2332944869995117\n",
      "Validation Accuracy: 0.5709459185600281\n",
      "Epoch  8, CIFAR-10 Batch 1:  Loss: 1.3220546245574951\n",
      "Validation Accuracy: 0.5777027010917664\n",
      "Epoch  8, CIFAR-10 Batch 2:  Loss: 1.2755845785140991\n",
      "Validation Accuracy: 0.5337837934494019\n",
      "Epoch  8, CIFAR-10 Batch 3:  Loss: 1.1341054439544678\n",
      "Validation Accuracy: 0.6216216087341309\n",
      "Epoch  8, CIFAR-10 Batch 4:  Loss: 1.164541482925415\n",
      "Validation Accuracy: 0.5608108043670654\n",
      "Epoch  8, CIFAR-10 Batch 5:  Loss: 1.2002557516098022\n",
      "Validation Accuracy: 0.5675675868988037\n",
      "Epoch  9, CIFAR-10 Batch 1:  Loss: 1.2755508422851562\n",
      "Validation Accuracy: 0.5743243098258972\n",
      "Epoch  9, CIFAR-10 Batch 2:  Loss: 1.2575557231903076\n",
      "Validation Accuracy: 0.5540540814399719\n",
      "Epoch  9, CIFAR-10 Batch 3:  Loss: 1.122450351715088\n",
      "Validation Accuracy: 0.6385135054588318\n",
      "Epoch  9, CIFAR-10 Batch 4:  Loss: 1.1196190118789673\n",
      "Validation Accuracy: 0.5979729890823364\n",
      "Epoch  9, CIFAR-10 Batch 5:  Loss: 1.16487717628479\n",
      "Validation Accuracy: 0.587837815284729\n",
      "Epoch 10, CIFAR-10 Batch 1:  Loss: 1.2372708320617676\n",
      "Validation Accuracy: 0.6081081032752991\n",
      "Epoch 10, CIFAR-10 Batch 2:  Loss: 1.2400792837142944\n",
      "Validation Accuracy: 0.5506756901741028\n",
      "Epoch 10, CIFAR-10 Batch 3:  Loss: 1.0788501501083374\n",
      "Validation Accuracy: 0.6554054021835327\n",
      "Epoch 10, CIFAR-10 Batch 4:  Loss: 1.105312705039978\n",
      "Validation Accuracy: 0.6114864945411682\n",
      "Epoch 10, CIFAR-10 Batch 5:  Loss: 1.1435768604278564\n",
      "Validation Accuracy: 0.5979729890823364\n",
      "Epoch 11, CIFAR-10 Batch 1:  Loss: 1.22514808177948\n",
      "Validation Accuracy: 0.5844594836235046\n",
      "Epoch 11, CIFAR-10 Batch 2:  Loss: 1.2123286724090576\n",
      "Validation Accuracy: 0.5506756901741028\n",
      "Epoch 11, CIFAR-10 Batch 3:  Loss: 1.0704712867736816\n",
      "Validation Accuracy: 0.6418918967247009\n",
      "Epoch 11, CIFAR-10 Batch 4:  Loss: 1.0791574716567993\n",
      "Validation Accuracy: 0.6148648858070374\n",
      "Epoch 11, CIFAR-10 Batch 5:  Loss: 1.1113001108169556\n",
      "Validation Accuracy: 0.6081081032752991\n",
      "Epoch 12, CIFAR-10 Batch 1:  Loss: 1.2064262628555298\n",
      "Validation Accuracy: 0.5912162065505981\n",
      "Epoch 12, CIFAR-10 Batch 2:  Loss: 1.1906781196594238\n",
      "Validation Accuracy: 0.5743243098258972\n",
      "Epoch 12, CIFAR-10 Batch 3:  Loss: 1.0412609577178955\n",
      "Validation Accuracy: 0.6722972989082336\n",
      "Epoch 12, CIFAR-10 Batch 4:  Loss: 1.0681437253952026\n",
      "Validation Accuracy: 0.6283783912658691\n",
      "Epoch 12, CIFAR-10 Batch 5:  Loss: 1.0951015949249268\n",
      "Validation Accuracy: 0.6081081032752991\n",
      "Epoch 13, CIFAR-10 Batch 1:  Loss: 1.1606895923614502\n",
      "Validation Accuracy: 0.6317567825317383\n",
      "Epoch 13, CIFAR-10 Batch 2:  Loss: 1.158129334449768\n",
      "Validation Accuracy: 0.5912162065505981\n",
      "Epoch 13, CIFAR-10 Batch 3:  Loss: 1.0226469039916992\n",
      "Validation Accuracy: 0.6655405163764954\n",
      "Epoch 13, CIFAR-10 Batch 4:  Loss: 1.043508768081665\n",
      "Validation Accuracy: 0.6283783912658691\n",
      "Epoch 13, CIFAR-10 Batch 5:  Loss: 1.079305648803711\n",
      "Validation Accuracy: 0.6216216087341309\n",
      "Epoch 14, CIFAR-10 Batch 1:  Loss: 1.1540642976760864\n",
      "Validation Accuracy: 0.6148648858070374\n",
      "Epoch 14, CIFAR-10 Batch 2:  Loss: 1.1473615169525146\n",
      "Validation Accuracy: 0.5777027010917664\n",
      "Epoch 14, CIFAR-10 Batch 3:  Loss: 1.0056341886520386\n",
      "Validation Accuracy: 0.6554054021835327\n",
      "Epoch 14, CIFAR-10 Batch 4:  Loss: 1.020928978919983\n",
      "Validation Accuracy: 0.6655405163764954\n",
      "Epoch 14, CIFAR-10 Batch 5:  Loss: 1.0511113405227661\n",
      "Validation Accuracy: 0.6283783912658691\n",
      "Epoch 15, CIFAR-10 Batch 1:  Loss: 1.1191059350967407\n",
      "Validation Accuracy: 0.6317567825317383\n",
      "Epoch 15, CIFAR-10 Batch 2:  Loss: 1.1279957294464111\n",
      "Validation Accuracy: 0.5979729890823364\n",
      "Epoch 15, CIFAR-10 Batch 3:  Loss: 0.9844371676445007\n",
      "Validation Accuracy: 0.6891891956329346\n",
      "Epoch 15, CIFAR-10 Batch 4:  Loss: 0.9852284789085388\n",
      "Validation Accuracy: 0.662162184715271\n",
      "Epoch 15, CIFAR-10 Batch 5:  Loss: 1.040658712387085\n",
      "Validation Accuracy: 0.6283783912658691\n",
      "Epoch 16, CIFAR-10 Batch 1:  Loss: 1.0901867151260376\n",
      "Validation Accuracy: 0.6554054021835327\n",
      "Epoch 16, CIFAR-10 Batch 2:  Loss: 1.1026127338409424\n",
      "Validation Accuracy: 0.6081081032752991\n",
      "Epoch 16, CIFAR-10 Batch 3:  Loss: 0.9728950262069702\n",
      "Validation Accuracy: 0.6722972989082336\n",
      "Epoch 16, CIFAR-10 Batch 4:  Loss: 0.9634888172149658\n",
      "Validation Accuracy: 0.6858108043670654\n",
      "Epoch 16, CIFAR-10 Batch 5:  Loss: 1.0293352603912354\n",
      "Validation Accuracy: 0.6554054021835327\n",
      "Epoch 17, CIFAR-10 Batch 1:  Loss: 1.0923351049423218\n",
      "Validation Accuracy: 0.6351351141929626\n",
      "Epoch 17, CIFAR-10 Batch 2:  Loss: 1.084938645362854\n",
      "Validation Accuracy: 0.6148648858070374\n",
      "Epoch 17, CIFAR-10 Batch 3:  Loss: 0.9618239402770996\n",
      "Validation Accuracy: 0.6993243098258972\n",
      "Epoch 17, CIFAR-10 Batch 4:  Loss: 0.9672684669494629\n",
      "Validation Accuracy: 0.6891891956329346\n",
      "Epoch 17, CIFAR-10 Batch 5:  Loss: 1.0276777744293213\n",
      "Validation Accuracy: 0.6554054021835327\n",
      "Epoch 18, CIFAR-10 Batch 1:  Loss: 1.0657169818878174\n",
      "Validation Accuracy: 0.6317567825317383\n",
      "Epoch 18, CIFAR-10 Batch 2:  Loss: 1.0665996074676514\n",
      "Validation Accuracy: 0.6182432174682617\n",
      "Epoch 18, CIFAR-10 Batch 3:  Loss: 0.9375637173652649\n",
      "Validation Accuracy: 0.6824324131011963\n",
      "Epoch 18, CIFAR-10 Batch 4:  Loss: 0.9491218328475952\n",
      "Validation Accuracy: 0.6790540814399719\n",
      "Epoch 18, CIFAR-10 Batch 5:  Loss: 0.9991208910942078\n",
      "Validation Accuracy: 0.625\n",
      "Epoch 19, CIFAR-10 Batch 1:  Loss: 1.0587652921676636\n",
      "Validation Accuracy: 0.6385135054588318\n",
      "Epoch 19, CIFAR-10 Batch 2:  Loss: 1.054705262184143\n",
      "Validation Accuracy: 0.6182432174682617\n",
      "Epoch 19, CIFAR-10 Batch 3:  Loss: 0.932305634021759\n",
      "Validation Accuracy: 0.6858108043670654\n",
      "Epoch 19, CIFAR-10 Batch 4:  Loss: 0.9503468871116638\n",
      "Validation Accuracy: 0.6689189076423645\n",
      "Epoch 19, CIFAR-10 Batch 5:  Loss: 0.9975994229316711\n",
      "Validation Accuracy: 0.6317567825317383\n",
      "Epoch 20, CIFAR-10 Batch 1:  Loss: 1.0262653827667236\n",
      "Validation Accuracy: 0.6486486196517944\n",
      "Epoch 20, CIFAR-10 Batch 2:  Loss: 1.0294227600097656\n",
      "Validation Accuracy: 0.6114864945411682\n",
      "Epoch 20, CIFAR-10 Batch 3:  Loss: 0.9253154397010803\n",
      "Validation Accuracy: 0.6722972989082336\n",
      "Epoch 20, CIFAR-10 Batch 4:  Loss: 0.9368500709533691\n",
      "Validation Accuracy: 0.6722972989082336\n",
      "Epoch 20, CIFAR-10 Batch 5:  Loss: 0.9778708219528198\n",
      "Validation Accuracy: 0.6418918967247009\n",
      "Epoch 21, CIFAR-10 Batch 1:  Loss: 1.0194575786590576\n",
      "Validation Accuracy: 0.6452702879905701\n",
      "Epoch 21, CIFAR-10 Batch 2:  Loss: 1.0232903957366943\n",
      "Validation Accuracy: 0.6317567825317383\n",
      "Epoch 21, CIFAR-10 Batch 3:  Loss: 0.9075847268104553\n",
      "Validation Accuracy: 0.6790540814399719\n",
      "Epoch 21, CIFAR-10 Batch 4:  Loss: 0.9229587912559509\n",
      "Validation Accuracy: 0.6722972989082336\n",
      "Epoch 21, CIFAR-10 Batch 5:  Loss: 0.9442770481109619\n",
      "Validation Accuracy: 0.6689189076423645\n",
      "Epoch 22, CIFAR-10 Batch 1:  Loss: 1.0204116106033325\n",
      "Validation Accuracy: 0.6385135054588318\n",
      "Epoch 22, CIFAR-10 Batch 2:  Loss: 1.0250896215438843\n",
      "Validation Accuracy: 0.6317567825317383\n",
      "Epoch 22, CIFAR-10 Batch 3:  Loss: 0.8834745287895203\n",
      "Validation Accuracy: 0.6790540814399719\n",
      "Epoch 22, CIFAR-10 Batch 4:  Loss: 0.8942256569862366\n",
      "Validation Accuracy: 0.7027027010917664\n",
      "Epoch 22, CIFAR-10 Batch 5:  Loss: 0.9253873825073242\n",
      "Validation Accuracy: 0.6689189076423645\n",
      "Epoch 23, CIFAR-10 Batch 1:  Loss: 0.9950965642929077\n",
      "Validation Accuracy: 0.6486486196517944\n",
      "Epoch 23, CIFAR-10 Batch 2:  Loss: 0.9885964393615723\n",
      "Validation Accuracy: 0.6655405163764954\n",
      "Epoch 23, CIFAR-10 Batch 3:  Loss: 0.8880500793457031\n",
      "Validation Accuracy: 0.6756756901741028\n",
      "Epoch 23, CIFAR-10 Batch 4:  Loss: 0.8905351758003235\n",
      "Validation Accuracy: 0.6891891956329346\n",
      "Epoch 23, CIFAR-10 Batch 5:  Loss: 0.9093380570411682\n",
      "Validation Accuracy: 0.6655405163764954\n",
      "Epoch 24, CIFAR-10 Batch 1:  Loss: 0.9863929748535156\n",
      "Validation Accuracy: 0.6486486196517944\n",
      "Epoch 24, CIFAR-10 Batch 2:  Loss: 0.9618226289749146\n",
      "Validation Accuracy: 0.6554054021835327\n",
      "Epoch 24, CIFAR-10 Batch 3:  Loss: 0.8674107193946838\n",
      "Validation Accuracy: 0.7060810923576355\n",
      "Epoch 24, CIFAR-10 Batch 4:  Loss: 0.8775473833084106\n",
      "Validation Accuracy: 0.7094594836235046\n",
      "Epoch 24, CIFAR-10 Batch 5:  Loss: 0.8972105979919434\n",
      "Validation Accuracy: 0.6722972989082336\n",
      "Epoch 25, CIFAR-10 Batch 1:  Loss: 0.9523885846138\n",
      "Validation Accuracy: 0.6587837934494019\n",
      "Epoch 25, CIFAR-10 Batch 2:  Loss: 0.9541013836860657\n",
      "Validation Accuracy: 0.6554054021835327\n",
      "Epoch 25, CIFAR-10 Batch 3:  Loss: 0.860826849937439\n",
      "Validation Accuracy: 0.7162162065505981\n",
      "Epoch 25, CIFAR-10 Batch 4:  Loss: 0.8700466752052307\n",
      "Validation Accuracy: 0.7060810923576355\n",
      "Epoch 25, CIFAR-10 Batch 5:  Loss: 0.8855324983596802\n",
      "Validation Accuracy: 0.6858108043670654\n",
      "Epoch 26, CIFAR-10 Batch 1:  Loss: 0.9600511789321899\n",
      "Validation Accuracy: 0.6520270109176636\n",
      "Epoch 26, CIFAR-10 Batch 2:  Loss: 0.9594926834106445\n",
      "Validation Accuracy: 0.6722972989082336\n",
      "Epoch 26, CIFAR-10 Batch 3:  Loss: 0.8323644399642944\n",
      "Validation Accuracy: 0.7195945978164673\n",
      "Epoch 26, CIFAR-10 Batch 4:  Loss: 0.8552106618881226\n",
      "Validation Accuracy: 0.712837815284729\n",
      "Epoch 26, CIFAR-10 Batch 5:  Loss: 0.8720262050628662\n",
      "Validation Accuracy: 0.6858108043670654\n",
      "Epoch 27, CIFAR-10 Batch 1:  Loss: 0.9606570601463318\n",
      "Validation Accuracy: 0.6587837934494019\n",
      "Epoch 27, CIFAR-10 Batch 2:  Loss: 0.9250901937484741\n",
      "Validation Accuracy: 0.6790540814399719\n",
      "Epoch 27, CIFAR-10 Batch 3:  Loss: 0.8470122218132019\n",
      "Validation Accuracy: 0.6993243098258972\n",
      "Epoch 27, CIFAR-10 Batch 4:  Loss: 0.8647668361663818\n",
      "Validation Accuracy: 0.6959459185600281\n",
      "Epoch 27, CIFAR-10 Batch 5:  Loss: 0.8495052456855774\n",
      "Validation Accuracy: 0.7094594836235046\n",
      "Epoch 28, CIFAR-10 Batch 1:  Loss: 0.9443202614784241\n",
      "Validation Accuracy: 0.6756756901741028\n",
      "Epoch 28, CIFAR-10 Batch 2:  Loss: 0.9101902842521667\n",
      "Validation Accuracy: 0.6993243098258972\n",
      "Epoch 28, CIFAR-10 Batch 3:  Loss: 0.8320931196212769\n",
      "Validation Accuracy: 0.712837815284729\n",
      "Epoch 28, CIFAR-10 Batch 4:  Loss: 0.8482698202133179\n",
      "Validation Accuracy: 0.7195945978164673\n",
      "Epoch 28, CIFAR-10 Batch 5:  Loss: 0.8333428502082825\n",
      "Validation Accuracy: 0.7027027010917664\n",
      "Epoch 29, CIFAR-10 Batch 1:  Loss: 0.9332455992698669\n",
      "Validation Accuracy: 0.6756756901741028\n",
      "Epoch 29, CIFAR-10 Batch 2:  Loss: 0.8945226669311523\n",
      "Validation Accuracy: 0.7060810923576355\n",
      "Epoch 29, CIFAR-10 Batch 3:  Loss: 0.8299007415771484\n",
      "Validation Accuracy: 0.7229729890823364\n",
      "Epoch 29, CIFAR-10 Batch 4:  Loss: 0.8251245617866516\n",
      "Validation Accuracy: 0.7263513803482056\n",
      "Epoch 29, CIFAR-10 Batch 5:  Loss: 0.8320277333259583\n",
      "Validation Accuracy: 0.6891891956329346\n",
      "Epoch 30, CIFAR-10 Batch 1:  Loss: 0.9109305143356323\n",
      "Validation Accuracy: 0.6858108043670654\n",
      "Epoch 30, CIFAR-10 Batch 2:  Loss: 0.8925551176071167\n",
      "Validation Accuracy: 0.6824324131011963\n",
      "Epoch 30, CIFAR-10 Batch 3:  Loss: 0.8138163685798645\n",
      "Validation Accuracy: 0.7263513803482056\n",
      "Epoch 30, CIFAR-10 Batch 4:  Loss: 0.8088681101799011\n",
      "Validation Accuracy: 0.7466216087341309\n",
      "Epoch 30, CIFAR-10 Batch 5:  Loss: 0.8216382265090942\n",
      "Validation Accuracy: 0.6891891956329346\n"
     ]
    }
   ],
   "source": [
    "\"\"\"\n",
    "DON'T MODIFY ANYTHING IN THIS CELL\n",
    "\"\"\"\n",
    "save_model_path = './image_classification'\n",
    "\n",
    "print('Training...')\n",
    "with tf.Session() as sess:\n",
    "    # Initializing the variables\n",
    "    sess.run(tf.global_variables_initializer())\n",
    "    \n",
    "    # Training cycle\n",
    "    for epoch in range(epochs):\n",
    "        # Loop over all batches\n",
    "        n_batches = 5\n",
    "        for batch_i in range(1, n_batches + 1):\n",
    "            for batch_features, batch_labels in helper.load_preprocess_training_batch(batch_i, batch_size):\n",
    "                train_neural_network(sess, optimizer, keep_probability, batch_features, batch_labels)\n",
    "            print('Epoch {:>2}, CIFAR-10 Batch {}:  '.format(epoch + 1, batch_i), end='')\n",
    "            print_stats(sess, batch_features, batch_labels, cost, accuracy)\n",
    "            \n",
    "    # Save Model\n",
    "    saver = tf.train.Saver()\n",
    "    save_path = saver.save(sess, save_model_path)"
   ]
  },
  {
   "cell_type": "markdown",
   "metadata": {
    "deletable": true,
    "editable": true
   },
   "source": [
    "# Checkpoint\n",
    "The model has been saved to disk.\n",
    "## Test Model\n",
    "Test your model against the test dataset.  This will be your final accuracy. You should have an accuracy greater than 50%. If you don't, keep tweaking the model architecture and parameters."
   ]
  },
  {
   "cell_type": "code",
   "execution_count": 173,
   "metadata": {
    "collapsed": false,
    "deletable": true,
    "editable": true
   },
   "outputs": [
    {
     "name": "stdout",
     "output_type": "stream",
     "text": [
      "Testing Accuracy: 0.6261316627264023\n",
      "\n"
     ]
    },
    {
     "data": {
      "image/png": "[encoded data removed]",
      "text/plain": [
       "<matplotlib.figure.Figure at 0x7f1a4c16d908>"
      ]
     },
     "metadata": {
      "image/png": {
       "height": 319,
       "width": 355
      }
     },
     "output_type": "display_data"
    }
   ],
   "source": [
    "\"\"\"\n",
    "DON'T MODIFY ANYTHING IN THIS CELL\n",
    "\"\"\"\n",
    "%matplotlib inline\n",
    "%config InlineBackend.figure_format = 'retina'\n",
    "\n",
    "import tensorflow as tf\n",
    "import pickle\n",
    "import helper\n",
    "import random\n",
    "\n",
    "# Set batch size if not already set\n",
    "try:\n",
    "    if batch_size:\n",
    "        pass\n",
    "except NameError:\n",
    "    batch_size = 64\n",
    "\n",
    "save_model_path = './image_classification'\n",
    "n_samples = 4\n",
    "top_n_predictions = 3\n",
    "\n",
    "def test_model():\n",
    "    \"\"\"\n",
    "    Test the saved model against the test dataset\n",
    "    \"\"\"\n",
    "\n",
    "    test_features, test_labels = pickle.load(open('preprocess_training.p', mode='rb'))\n",
    "    loaded_graph = tf.Graph()\n",
    "\n",
    "    with tf.Session(graph=loaded_graph) as sess:\n",
    "        # Load model\n",
    "        loader = tf.train.import_meta_graph(save_model_path + '.meta')\n",
    "        loader.restore(sess, save_model_path)\n",
    "\n",
    "        # Get Tensors from loaded model\n",
    "        loaded_x = loaded_graph.get_tensor_by_name('x:0')\n",
    "        loaded_y = loaded_graph.get_tensor_by_name('y:0')\n",
    "        loaded_keep_prob = loaded_graph.get_tensor_by_name('keep_prob:0')\n",
    "        loaded_logits = loaded_graph.get_tensor_by_name('logits:0')\n",
    "        loaded_acc = loaded_graph.get_tensor_by_name('accuracy:0')\n",
    "        \n",
    "        # Get accuracy in batches for memory limitations\n",
    "        test_batch_acc_total = 0\n",
    "        test_batch_count = 0\n",
    "        \n",
    "        for train_feature_batch, train_label_batch in helper.batch_features_labels(test_features, test_labels, batch_size):\n",
    "            test_batch_acc_total += sess.run(\n",
    "                loaded_acc,\n",
    "                feed_dict={loaded_x: train_feature_batch, loaded_y: train_label_batch, loaded_keep_prob: 1.0})\n",
    "            test_batch_count += 1\n",
    "\n",
    "        print('Testing Accuracy: {}\\n'.format(test_batch_acc_total/test_batch_count))\n",
    "\n",
    "        # Print Random Samples\n",
    "        random_test_features, random_test_labels = tuple(zip(*random.sample(list(zip(test_features, test_labels)), n_samples)))\n",
    "        random_test_predictions = sess.run(\n",
    "            tf.nn.top_k(tf.nn.softmax(loaded_logits), top_n_predictions),\n",
    "            feed_dict={loaded_x: random_test_features, loaded_y: random_test_labels, loaded_keep_prob: 1.0})\n",
    "        helper.display_image_predictions(random_test_features, random_test_labels, random_test_predictions)\n",
    "\n",
    "\n",
    "test_model()"
   ]
  },
  {
   "cell_type": "markdown",
   "metadata": {
    "deletable": true,
    "editable": true
   },
   "source": [
    "## Why 50-70% Accuracy?\n",
    "You might be wondering why you can't get an accuracy any higher. First things first, 50% isn't bad for a simple CNN.  Pure guessing would get you 10% accuracy. However, you might notice people are getting scores [well above 70%](http://rodrigob.github.io/are_we_there_yet/build/classification_datasets_results.html#43494641522d3130).  That's because we haven't taught you all there is to know about neural networks. We still need to cover a few more techniques.\n",
    "## Submitting This Project\n",
    "When submitting this project, make sure to run all the cells before saving the notebook.  Save the notebook file as \"dlnd_image_classification.ipynb\" and save it as a HTML file under \"File\" -> \"Download as\".  Include the \"helper.py\" and \"problem_unittests.py\" files in your submission."
   ]
  }
 ],
 "metadata": {
  "hide_input": false,
  "kernelspec": {
   "display_name": "Python 3",
   "language": "python",
   "name": "python3"
  },
  "language_info": {
   "codemirror_mode": {
    "name": "ipython",
    "version": 3
   },
   "file_extension": ".py",
   "mimetype": "text/x-python",
   "name": "python",
   "nbconvert_exporter": "python",
   "pygments_lexer": "ipython3",
   "version": "3.5.2"
  },
  "widgets": {
   "state": {},
   "version": "1.1.2"
  }
 },
 "nbformat": 4,
 "nbformat_minor": 0
}
